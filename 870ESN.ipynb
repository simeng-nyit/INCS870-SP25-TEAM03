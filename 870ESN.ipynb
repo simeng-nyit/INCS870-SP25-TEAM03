{
  "nbformat": 4,
  "nbformat_minor": 0,
  "metadata": {
    "colab": {
      "provenance": []
    },
    "kernelspec": {
      "name": "python3",
      "display_name": "Python 3"
    },
    "language_info": {
      "name": "python"
    }
  },
  "cells": [
    {
      "cell_type": "code",
      "execution_count": null,
      "metadata": {
        "id": "Z0-z0HDqa6qk"
      },
      "outputs": [],
      "source": [
        " import pandas as pd\n",
        "from sklearn.preprocessing import StandardScaler, OneHotEncoder\n",
        "from sklearn.compose import ColumnTransformer"
      ]
    },
    {
      "cell_type": "code",
      "source": [
        "train_df = pd.read_csv('UNSW_NB15_training-set.csv')\n",
        "test_df = pd.read_csv('UNSW_NB15_testing-set.csv')"
      ],
      "metadata": {
        "id": "F4YCwm6Oa987"
      },
      "execution_count": null,
      "outputs": []
    },
    {
      "cell_type": "code",
      "source": [
        "categorical_features = ['proto', 'service', 'state']\n",
        "numeric_features = train_df.columns.difference(categorical_features + ['label', 'attack_cat'])"
      ],
      "metadata": {
        "id": "IXQ6SC9xbAJQ"
      },
      "execution_count": null,
      "outputs": []
    },
    {
      "cell_type": "code",
      "source": [
        "preprocessor = ColumnTransformer([\n",
        "    ('num', StandardScaler(), numeric_features),\n",
        "    ('cat', OneHotEncoder(handle_unknown='ignore'), categorical_features)  # 忽略未知类别\n",
        "])\n",
        "\n",
        "X_train = preprocessor.fit_transform(train_df).toarray()\n",
        "y_train = train_df['label'].values.reshape(-1, 1)\n",
        "X_test = preprocessor.transform(test_df).toarray()\n",
        "y_test = test_df['label'].values.reshape(-1, 1)"
      ],
      "metadata": {
        "id": "xI7NqvsUbCIq"
      },
      "execution_count": null,
      "outputs": []
    },
    {
      "cell_type": "code",
      "source": [
        "from pyESN import ESN\n",
        "\n",
        "n_inputs = X_train.shape[1]\n",
        "n_outputs = 1\n",
        "\n",
        "esn = ESN(\n",
        "    n_inputs=n_inputs,\n",
        "    n_outputs=n_outputs,\n",
        "    n_reservoir=500,\n",
        "    spectral_radius=0.95,\n",
        "    sparsity=0.2,\n",
        "    noise=0.001,\n",
        "    teacher_scaling=1.0,\n",
        "    teacher_forcing=True,\n",
        "    random_state=42,\n",
        "    silent=False\n",
        ")"
      ],
      "metadata": {
        "id": "-Q1f2sRGbFCS"
      },
      "execution_count": null,
      "outputs": []
    },
    {
      "cell_type": "code",
      "source": [
        "pred_train = esn.fit(X_train, y_train, inspect=False)"
      ],
      "metadata": {
        "colab": {
          "base_uri": "https://localhost:8080/"
        },
        "id": "_LRBieThbMnH",
        "outputId": "1398682b-3492-4837-9063-79856f9f1c46"
      },
      "execution_count": null,
      "outputs": [
        {
          "output_type": "stream",
          "name": "stdout",
          "text": [
            "harvesting states...\n",
            "fitting...\n",
            "training error:\n",
            "0.15325368814850723\n"
          ]
        }
      ]
    },
    {
      "cell_type": "code",
      "source": [
        "pred_test = esn.predict(X_test, continuation=True)\n",
        "y_pred = (pred_test > 0.5).astype(int)"
      ],
      "metadata": {
        "id": "lqtqrqwpbQ99"
      },
      "execution_count": null,
      "outputs": []
    },
    {
      "cell_type": "code",
      "source": [
        "from sklearn.metrics import accuracy_score, classification_report\n",
        "\n",
        "print(f\"accuracy: {accuracy_score(y_test, y_pred):.4f}\")\n",
        "print(classification_report(y_test, y_pred))"
      ],
      "metadata": {
        "colab": {
          "base_uri": "https://localhost:8080/"
        },
        "id": "srw8P1T8bR4Z",
        "outputId": "844bce36-b5ee-485e-ee5d-39a0872e06ce"
      },
      "execution_count": null,
      "outputs": [
        {
          "output_type": "stream",
          "name": "stdout",
          "text": [
            "accuracy: 0.8655\n",
            "              precision    recall  f1-score   support\n",
            "\n",
            "           0       0.94      0.75      0.83     37000\n",
            "           1       0.82      0.96      0.89     45332\n",
            "\n",
            "    accuracy                           0.87     82332\n",
            "   macro avg       0.88      0.85      0.86     82332\n",
            "weighted avg       0.88      0.87      0.86     82332\n",
            "\n"
          ]
        }
      ]
    }
  ]
}