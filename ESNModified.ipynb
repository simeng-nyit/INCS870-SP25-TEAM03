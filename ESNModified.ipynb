{
  "nbformat": 4,
  "nbformat_minor": 0,
  "metadata": {
    "colab": {
      "provenance": []
    },
    "kernelspec": {
      "name": "python3",
      "display_name": "Python 3"
    },
    "language_info": {
      "name": "python"
    }
  },
  "cells": [
    {
      "cell_type": "code",
      "execution_count": null,
      "metadata": {
        "id": "AXbEv37Qov0h"
      },
      "outputs": [],
      "source": [
        "import pandas as pd\n",
        "import numpy as np\n",
        "from sklearn.compose import ColumnTransformer\n",
        "from sklearn.preprocessing import StandardScaler, OneHotEncoder\n",
        "from sklearn.metrics import accuracy_score, classification_report\n",
        "from pyESNModified import ESN  # 导入修改后的ESN实现\n",
        "\n",
        "# 数据预处理\n",
        "def preprocess_data():\n",
        "    train_df = pd.read_csv('UNSW_NB15_training-set.csv')\n",
        "    test_df = pd.read_csv('UNSW_NB15_testing-set.csv')\n",
        "\n",
        "    categorical_features = ['proto', 'service', 'state']\n",
        "    numeric_features = train_df.columns.difference(categorical_features + ['label', 'attack_cat'])\n",
        "\n",
        "    preprocessor = ColumnTransformer([\n",
        "        ('num', StandardScaler(), numeric_features),\n",
        "        ('cat', OneHotEncoder(handle_unknown='ignore'), categorical_features)\n",
        "    ])\n",
        "\n",
        "    # Modify these lines in ESNcolab.py\n",
        "    X_train = preprocessor.fit_transform(train_df).toarray().astype(np.float64)\n",
        "    y_train = train_df['label'].values.reshape(-1, 1).astype(np.float64)\n",
        "    X_test = preprocessor.transform(test_df).toarray().astype(np.float64)\n",
        "    y_test = test_df['label'].values.reshape(-1, 1).astype(np.float64)\n",
        "\n",
        "    return X_train, y_train, X_test, y_test\n",
        "\n",
        "def main():\n",
        "    # 数据预处理\n",
        "    X_train, y_train, X_test, y_test = preprocess_data()\n",
        "\n",
        "    # 初始化带贪心捆绑的ESN\n",
        "    esn = ESN(\n",
        "        n_inputs=X_train.shape[1],\n",
        "        n_outputs=1,\n",
        "        n_reservoir=500,\n",
        "        spectral_radius=0.95,\n",
        "        sparsity=0.2,\n",
        "        noise=0.001,\n",
        "        teacher_scaling=1.0,\n",
        "        teacher_forcing=True,\n",
        "        random_state=42,\n",
        "        use_bundling=True,  # 启用贪心捆绑\n",
        "        K=3                # 设置最大冲突数\n",
        "    )\n",
        "\n",
        "    # 训练和预测\n",
        "    esn.fit(X_train, y_train)\n",
        "    pred_test = esn.predict(X_test)\n",
        "    y_pred = (pred_test > 0.5).astype(int)\n",
        "\n",
        "    # 评估结果\n",
        "    print(\"Greedy Bundling ESN Performance:\")\n",
        "    print(f\"Accuracy: {accuracy_score(y_test, y_pred):.4f}\")\n",
        "    print(classification_report(y_test, y_pred))\n",
        "\n",
        "if __name__ == \"__main__\":\n",
        "    main()"
      ]
    }
  ]
}